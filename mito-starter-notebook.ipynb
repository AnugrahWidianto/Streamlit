{
 "cells": [
  {
   "cell_type": "code",
   "execution_count": 1,
   "id": "c0957234-ba57-4199-adfa-9d17ede0b8f9",
   "metadata": {},
   "outputs": [
    {
     "data": {
      "application/vnd.jupyter.widget-view+json": {
       "model_id": "fd4fb55fd65d4519846e7c33b810d1b2",
       "version_major": 2,
       "version_minor": 0
      },
      "text/plain": [
       "MitoWidget(analysis_data_json='{\"analysisName\": \"id-matzbmulkw\", \"analysisToReplay\": {\"analysisName\": \"id-krgn…"
      ]
     },
     "metadata": {},
     "output_type": "display_data"
    }
   ],
   "source": [
    "# Run this cell to render a mitosheet\n",
    "# See mito's documentation here: https://docs.trymito.io/how-to/creating-a-mitosheet\n",
    "# Join our Discord for support here: https://discord.gg/XdJSZyejJU\n",
    "\n",
    "import mitosheet\n",
    "mitosheet.sheet(analysis_to_replay=\"id-krgnlajdqj\")"
   ]
  },
  {
   "cell_type": "code",
   "execution_count": 2,
   "id": "1be74bf4",
   "metadata": {},
   "outputs": [
    {
     "data": {
      "text/html": [
       "<iframe\n",
       "    scrolling=\"no\"\n",
       "    width=\"100%\"\n",
       "    height=\"545px\"\n",
       "    src=\"iframe_figures/figure_2.html\"\n",
       "    frameborder=\"0\"\n",
       "    allowfullscreen\n",
       "></iframe>\n"
      ]
     },
     "metadata": {},
     "output_type": "display_data"
    }
   ],
   "source": [
    "from mitosheet import *; register_analysis(\"id-krgnlajdqj\");\n",
    "    \n",
    "# Imported HepatitisCdata.csv\n",
    "import pandas as pd\n",
    "HepatitisCdata = pd.read_csv(r'HepatitisCdata.csv')\n",
    "\n",
    "# Filtered Age\n",
    "HepatitisCdata = HepatitisCdata[HepatitisCdata['Age'].notnull()]\n",
    "\n",
    "# Changed Age to dtype float\n",
    "HepatitisCdata['Age'] = HepatitisCdata['Age'].astype('float')\n",
    "\n",
    "# Filtered ALB\n",
    "HepatitisCdata = HepatitisCdata[HepatitisCdata['ALB'].notnull()]\n",
    "\n",
    "# Filtered AST\n",
    "HepatitisCdata = HepatitisCdata[HepatitisCdata['AST'].notnull()]\n",
    "\n",
    "# Filtered PROT\n",
    "HepatitisCdata = HepatitisCdata[HepatitisCdata['PROT'].notnull()]\n"
   ]
  },
  {
   "cell_type": "code",
   "execution_count": 2,
   "id": "94eedc6c",
   "metadata": {},
   "outputs": [
    {
     "ename": "NameError",
     "evalue": "name 'HepatitisCdata' is not defined",
     "output_type": "error",
     "traceback": [
      "\u001b[1;31m---------------------------------------------------------------------------\u001b[0m",
      "\u001b[1;31mNameError\u001b[0m                                 Traceback (most recent call last)",
      "Input \u001b[1;32mIn [2]\u001b[0m, in \u001b[0;36m<cell line: 4>\u001b[1;34m()\u001b[0m\n\u001b[0;32m      1\u001b[0m \u001b[38;5;28;01mimport\u001b[39;00m \u001b[38;5;21;01mplotly\u001b[39;00m\u001b[38;5;21;01m.\u001b[39;00m\u001b[38;5;21;01mexpress\u001b[39;00m \u001b[38;5;28;01mas\u001b[39;00m \u001b[38;5;21;01mpx\u001b[39;00m\n\u001b[0;32m      2\u001b[0m \u001b[38;5;66;03m# Construct the graph and style it. Further customize your graph by editing this code.\u001b[39;00m\n\u001b[0;32m      3\u001b[0m \u001b[38;5;66;03m# See Plotly Documentation for help: https://plotly.com/python/plotly-express/\u001b[39;00m\n\u001b[1;32m----> 4\u001b[0m fig \u001b[38;5;241m=\u001b[39m px\u001b[38;5;241m.\u001b[39mecdf(\u001b[43mHepatitisCdata\u001b[49m, x\u001b[38;5;241m=\u001b[39m[\u001b[38;5;124m'\u001b[39m\u001b[38;5;124mAge\u001b[39m\u001b[38;5;124m'\u001b[39m, \u001b[38;5;124m'\u001b[39m\u001b[38;5;124mALP\u001b[39m\u001b[38;5;124m'\u001b[39m, \u001b[38;5;124m'\u001b[39m\u001b[38;5;124mCHE\u001b[39m\u001b[38;5;124m'\u001b[39m], y\u001b[38;5;241m=\u001b[39m\u001b[38;5;124m'\u001b[39m\u001b[38;5;124mPROT\u001b[39m\u001b[38;5;124m'\u001b[39m)\n\u001b[0;32m      5\u001b[0m fig\u001b[38;5;241m.\u001b[39mupdate_layout(\n\u001b[0;32m      6\u001b[0m     title\u001b[38;5;241m=\u001b[39m\u001b[38;5;124m'\u001b[39m\u001b[38;5;124mAge, ALP, CHE, PROT ecdf\u001b[39m\u001b[38;5;124m'\u001b[39m, \n\u001b[0;32m      7\u001b[0m     xaxis \u001b[38;5;241m=\u001b[39m \u001b[38;5;28mdict\u001b[39m(\n\u001b[1;32m   (...)\u001b[0m\n\u001b[0;32m     17\u001b[0m     showlegend\u001b[38;5;241m=\u001b[39m\u001b[38;5;28;01mTrue\u001b[39;00m\n\u001b[0;32m     18\u001b[0m )\n\u001b[0;32m     19\u001b[0m fig\u001b[38;5;241m.\u001b[39mshow(renderer\u001b[38;5;241m=\u001b[39m\u001b[38;5;124m\"\u001b[39m\u001b[38;5;124miframe\u001b[39m\u001b[38;5;124m\"\u001b[39m)\n",
      "\u001b[1;31mNameError\u001b[0m: name 'HepatitisCdata' is not defined"
     ]
    }
   ],
   "source": [
    "import plotly.express as px\n",
    "# Construct the graph and style it. Further customize your graph by editing this code.\n",
    "# See Plotly Documentation for help: https://plotly.com/python/plotly-express/\n",
    "fig = px.ecdf(HepatitisCdata, x=['Age', 'ALP', 'CHE'], y='PROT')\n",
    "fig.update_layout(\n",
    "    title='Age, ALP, CHE, PROT ecdf', \n",
    "    xaxis = dict(\n",
    "        rangeslider = dict(\n",
    "            visible=True, \n",
    "            thickness=0.05\n",
    "        )\n",
    "    ), \n",
    "    yaxis = dict(\n",
    "\n",
    "    ), \n",
    "    paper_bgcolor='#FFFFFF', \n",
    "    showlegend=True\n",
    ")\n",
    "fig.show(renderer=\"iframe\")"
   ]
  },
  {
   "cell_type": "code",
   "execution_count": 3,
   "id": "5dec3566",
   "metadata": {},
   "outputs": [
    {
     "data": {
      "text/html": [
       "<iframe\n",
       "    scrolling=\"no\"\n",
       "    width=\"100%\"\n",
       "    height=\"545px\"\n",
       "    src=\"iframe_figures/figure_3.html\"\n",
       "    frameborder=\"0\"\n",
       "    allowfullscreen\n",
       "></iframe>\n"
      ]
     },
     "metadata": {},
     "output_type": "display_data"
    }
   ],
   "source": [
    "from mitosheet import *; register_analysis(\"id-xqwysewoni\");\n",
    "    \n",
    "# Imported HepatitisCdata.csv\n",
    "import pandas as pd\n",
    "HepatitisCdata = pd.read_csv(r'HepatitisCdata.csv')\n",
    "\n",
    "# Filtered Age\n",
    "HepatitisCdata = HepatitisCdata[HepatitisCdata['Age'].notnull()]\n",
    "\n",
    "# Filtered ALP\n",
    "HepatitisCdata = HepatitisCdata[HepatitisCdata['ALP'].notnull()]\n",
    "\n",
    "# Filtered CHE\n",
    "HepatitisCdata = HepatitisCdata[HepatitisCdata['CHE'].notnull()]\n",
    "\n",
    "# Pivoted into HepatitisCdata\n",
    "HepatitisCdata_pivot = pd.DataFrame(data={})\n",
    "\n",
    "# Filtered PROT\n",
    "HepatitisCdata = HepatitisCdata[HepatitisCdata['PROT'].notnull()]\n",
    "\n",
    "# Pivoted into HepatitisCdata\n",
    "HepatitisCdata_pivot_1 = pd.DataFrame(data={})\n",
    "import plotly.express as px\n",
    "# Construct the graph and style it. Further customize your graph by editing this code.\n",
    "# See Plotly Documentation for help: https://plotly.com/python/plotly-express/\n",
    "fig = px.ecdf(HepatitisCdata, x=['Age', 'ALP', 'CHE'], y='PROT')\n",
    "fig.update_layout(\n",
    "    title='Age, ALP, CHE, PROT ecdf', \n",
    "    xaxis = dict(\n",
    "        rangeslider = dict(\n",
    "            visible=True, \n",
    "            thickness=0.05\n",
    "        )\n",
    "    ), \n",
    "    yaxis = dict(\n",
    "\n",
    "    ), \n",
    "    paper_bgcolor='#FFFFFF', \n",
    "    showlegend=True\n",
    ")\n",
    "fig.show(renderer=\"iframe\")\n"
   ]
  },
  {
   "cell_type": "code",
   "execution_count": null,
   "id": "22e34956",
   "metadata": {},
   "outputs": [],
   "source": []
  }
 ],
 "metadata": {
  "kernelspec": {
   "display_name": "Python 3 (ipykernel)",
   "language": "python",
   "name": "python3"
  },
  "language_info": {
   "codemirror_mode": {
    "name": "ipython",
    "version": 3
   },
   "file_extension": ".py",
   "mimetype": "text/x-python",
   "name": "python",
   "nbconvert_exporter": "python",
   "pygments_lexer": "ipython3",
   "version": "3.10.5"
  },
  "widgets": {
   "application/vnd.jupyter.widget-state+json": {
    "state": {},
    "version_major": 2,
    "version_minor": 0
   }
  }
 },
 "nbformat": 4,
 "nbformat_minor": 5
}
